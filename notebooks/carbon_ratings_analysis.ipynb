{
 "cells": [
  {
   "cell_type": "code",
   "execution_count": 1,
   "metadata": {},
   "outputs": [],
   "source": [
    "import sys\n",
    "import os \n",
    "import polars as pl"
   ]
  },
  {
   "cell_type": "code",
   "execution_count": 7,
   "metadata": {},
   "outputs": [],
   "source": [
    "project_root = os.path.abspath(os.path.join(os.getcwd(), '..'))\n",
    "sys.path.append(project_root)"
   ]
  },
  {
   "cell_type": "code",
   "execution_count": 8,
   "metadata": {},
   "outputs": [],
   "source": [
    "from src.sources.carbonindex import get_emissions_data"
   ]
  },
  {
   "cell_type": "code",
   "execution_count": 4,
   "metadata": {},
   "outputs": [],
   "source": [
    "os.environ['KEY'] = '***********'\n",
    "KEY = os.getenv('KEY')"
   ]
  },
  {
   "cell_type": "code",
   "execution_count": 11,
   "metadata": {},
   "outputs": [],
   "source": [
    "emissions_json = get_emissions_data(ticker='xtz', key=KEY)"
   ]
  },
  {
   "cell_type": "code",
   "execution_count": 17,
   "metadata": {},
   "outputs": [
    {
     "data": {
      "text/plain": [
       "{'date': '2021-08-22',\n",
       " 'emissions_24h': 121.39770969296028,\n",
       " 'emissions_365d': 44310.1640379305,\n",
       " 'intensity': 0.39131518451781}"
      ]
     },
     "execution_count": 17,
     "metadata": {},
     "output_type": "execute_result"
    }
   ],
   "source": [
    "emissions_json['entries'][0]"
   ]
  },
  {
   "cell_type": "code",
   "execution_count": 20,
   "metadata": {},
   "outputs": [
    {
     "data": {
      "text/html": [
       "<div><style>\n",
       ".dataframe > thead > tr,\n",
       ".dataframe > tbody > tr {\n",
       "  text-align: right;\n",
       "  white-space: pre-wrap;\n",
       "}\n",
       "</style>\n",
       "<small>shape: (1_095, 4)</small><table border=\"1\" class=\"dataframe\"><thead><tr><th>date</th><th>emissions_24h</th><th>emissions_365d</th><th>intensity</th></tr><tr><td>str</td><td>f64</td><td>f64</td><td>f64</td></tr></thead><tbody><tr><td>&quot;2021-08-22&quot;</td><td>121.39771</td><td>44310.164038</td><td>0.391315</td></tr><tr><td>&quot;2021-08-23&quot;</td><td>121.401719</td><td>44310.89573</td><td>0.391315</td></tr><tr><td>&quot;2021-08-24&quot;</td><td>121.132065</td><td>44278.3317</td><td>0.391315</td></tr><tr><td>&quot;2021-08-25&quot;</td><td>121.111341</td><td>44260.158624</td><td>0.391315</td></tr><tr><td>&quot;2021-08-26&quot;</td><td>121.255899</td><td>44259.807534</td><td>0.391315</td></tr><tr><td>&hellip;</td><td>&hellip;</td><td>&hellip;</td><td>&hellip;</td></tr><tr><td>&quot;2024-08-16&quot;</td><td>28.129671</td><td>10336.086676</td><td>0.303018</td></tr><tr><td>&quot;2024-08-17&quot;</td><td>28.236758</td><td>10311.754183</td><td>0.303018</td></tr><tr><td>&quot;2024-08-18&quot;</td><td>28.105625</td><td>10304.357109</td><td>0.303018</td></tr><tr><td>&quot;2024-08-19&quot;</td><td>28.143808</td><td>10299.22672</td><td>0.303018</td></tr><tr><td>&quot;2024-08-20&quot;</td><td>28.20587</td><td>10290.196783</td><td>0.303018</td></tr></tbody></table></div>"
      ],
      "text/plain": [
       "shape: (1_095, 4)\n",
       "┌────────────┬───────────────┬────────────────┬───────────┐\n",
       "│ date       ┆ emissions_24h ┆ emissions_365d ┆ intensity │\n",
       "│ ---        ┆ ---           ┆ ---            ┆ ---       │\n",
       "│ str        ┆ f64           ┆ f64            ┆ f64       │\n",
       "╞════════════╪═══════════════╪════════════════╪═══════════╡\n",
       "│ 2021-08-22 ┆ 121.39771     ┆ 44310.164038   ┆ 0.391315  │\n",
       "│ 2021-08-23 ┆ 121.401719    ┆ 44310.89573    ┆ 0.391315  │\n",
       "│ 2021-08-24 ┆ 121.132065    ┆ 44278.3317     ┆ 0.391315  │\n",
       "│ 2021-08-25 ┆ 121.111341    ┆ 44260.158624   ┆ 0.391315  │\n",
       "│ 2021-08-26 ┆ 121.255899    ┆ 44259.807534   ┆ 0.391315  │\n",
       "│ …          ┆ …             ┆ …              ┆ …         │\n",
       "│ 2024-08-16 ┆ 28.129671     ┆ 10336.086676   ┆ 0.303018  │\n",
       "│ 2024-08-17 ┆ 28.236758     ┆ 10311.754183   ┆ 0.303018  │\n",
       "│ 2024-08-18 ┆ 28.105625     ┆ 10304.357109   ┆ 0.303018  │\n",
       "│ 2024-08-19 ┆ 28.143808     ┆ 10299.22672    ┆ 0.303018  │\n",
       "│ 2024-08-20 ┆ 28.20587      ┆ 10290.196783   ┆ 0.303018  │\n",
       "└────────────┴───────────────┴────────────────┴───────────┘"
      ]
     },
     "execution_count": 20,
     "metadata": {},
     "output_type": "execute_result"
    }
   ],
   "source": [
    "pl.DataFrame(\n",
    "    emissions_json[\"entries\"],\n",
    "    schema={\n",
    "        \"date\": str,\n",
    "        \"emissions_24h\": float,\n",
    "        \"emissions_365d\": float,\n",
    "        \"intensity\": float,\n",
    "    }\n",
    ")"
   ]
  }
 ],
 "metadata": {
  "kernelspec": {
   "display_name": ".venv",
   "language": "python",
   "name": "python3"
  },
  "language_info": {
   "codemirror_mode": {
    "name": "ipython",
    "version": 3
   },
   "file_extension": ".py",
   "mimetype": "text/x-python",
   "name": "python",
   "nbconvert_exporter": "python",
   "pygments_lexer": "ipython3",
   "version": "3.12.3"
  }
 },
 "nbformat": 4,
 "nbformat_minor": 2
}
